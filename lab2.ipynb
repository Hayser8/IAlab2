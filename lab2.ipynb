{
 "cells": [
  {
   "cell_type": "markdown",
   "metadata": {},
   "source": [
    "## **Laboratorio 2** "
   ]
  },
  {
   "cell_type": "markdown",
   "metadata": {},
   "source": [
    "#### **Julio García Salas - 22076**\n",
    "#### **Sofía García -22210**"
   ]
  },
  {
   "cell_type": "markdown",
   "metadata": {},
   "source": [
    "# **Task 1**"
   ]
  },
  {
   "cell_type": "markdown",
   "metadata": {},
   "source": [
    "## 1. ¿Por qué el modelo de Naive Bayes se le considera “naive”?\n",
    "\n",
    "El modelo de Naive Bayes se considera \"naive\" (ingenuo) porque asume que todas las variables predictoras (features) son independientes entre sí, lo cual rara vez es cierto en la práctica. Esta suposición simplifica enormemente los cálculos, permitiendo una clasificación rápida y eficiente, aunque en muchos casos la independencia condicional no se cumple completamente.\n",
    "\n"
   ]
  },
  {
   "cell_type": "markdown",
   "metadata": {},
   "source": [
    "## 2. Support Vector Machine (SVM)\n",
    "   - Explique la formulación matemática que se busca optimizar en Support Vector Machine.\n",
    "      El objetivo de **SVM** es encontrar un hiperplano que maximice la **margen** entre dos clases de datos.  \n",
    "      La formulación matemática de SVM se basa en minimizar la siguiente función objetivo:\n",
    "\n",
    "      $$\n",
    "      \\min_{\\mathbf{w}, b} \\frac{1}{2} \\|\\mathbf{w}\\|^2\n",
    "      $$\n",
    "\n",
    "      ### Sujeto a las restricciones:\n",
    "\n",
    "      $$\n",
    "      y_i (\\mathbf{w} \\cdot \\mathbf{x}_i + b) \\geq 1, \\quad \\forall i\n",
    "      $$\n",
    "\n",
    "      ### Donde:\n",
    "\n",
    "      **Vector de pesos:**  \n",
    "      $$\n",
    "      \\mathbf{w}\n",
    "      $$\n",
    "\n",
    "      **Sesgo (*bias*):**  \n",
    "      $$\n",
    "      b\n",
    "      $$\n",
    "\n",
    "      **Cada punto de datos de entrenamiento:**  \n",
    "      $$\n",
    "      \\mathbf{x}_i\n",
    "      $$\n",
    "\n",
    "      **Etiqueta de la clase:**  \n",
    "      $$\n",
    "      y_i \\in \\{+1, -1\\}\n",
    "      $$\n",
    "      \n",
    "\n",
    "      Si los datos no son perfectamente separables, se introduce un **término de relajación** con la función de pérdida **hinge loss**, lo que lleva a la formulación con variables de holgura $\\xi_i$:\n",
    "\n",
    "      $$\n",
    "      \\min_{\\mathbf{w}, b} \\frac{1}{2} \\|\\mathbf{w}\\|^2 + C \\sum_{i=1}^{n} \\xi_i\n",
    "      $$\n",
    "\n",
    "      ### Sujeto a:\n",
    "\n",
    "      $$\n",
    "      y_i (\\mathbf{w} \\cdot \\mathbf{x}_i + b) \\geq 1 - \\xi_i, \\quad \\xi_i \\geq 0\n",
    "      $$\n",
    "\n",
    "      Donde \\( C \\) es un hiperparámetro que controla la penalización por errores de clasificación.\n",
    "   - Responda: ¿cómo funciona el truco del Kernel para este modelo?  \n",
    "     _(Lo que se espera de esta pregunta es que puedan explicar en sus propias palabras la fórmula a la que llegamos que debemos optimizar de SVM en clase)._\n",
    "\n",
    "     El **truco del Kernel** permite transformar los datos a un espacio de mayor dimensión donde sean **linealmente separables**, sin necesidad de calcular explícitamente la transformación.  \n",
    "      En lugar de calcular la transformación $ \\phi(x) $, se usa una función **kernel** que evalúa el producto escalar en el espacio transformado:\n",
    "\n",
    "      $$\n",
    "      K(x_i, x_j) = \\phi(x_i) \\cdot \\phi(x_j)\n",
    "      $$\n",
    "\n",
    "      ### Ejemplos de funciones de kernel comunes:\n",
    "\n",
    "      - **Lineal**:\n",
    "        $$\n",
    "        K(x_i, x_j) = x_i \\cdot x_j\n",
    "        $$\n",
    "\n",
    "      - **Polinómico**:\n",
    "        $$\n",
    "        K(x_i, x_j) = (x_i \\cdot x_j + c)^d\n",
    "        $$\n",
    "\n",
    "      - **RBF (Radial Basis Function)**:\n",
    "        $$\n",
    "        K(x_i, x_j) = \\exp(-\\gamma \\| x_i - x_j \\|^2)\n",
    "        $$\n",
    "\n",
    "      Esto permite que **SVM maneje datos no linealmente separables** de manera eficiente.\n"
   ]
  },
  {
   "cell_type": "markdown",
   "metadata": {},
   "source": [
    "## 3. Random Forest\n",
    "   - **a.** ¿Qué tipo de ensemble learning es este modelo?\n",
    "   \n",
    "   **Random Forest** es un modelo de **Bagging (Bootstrap Aggregating)**, que es un tipo de **ensemble learning basado en agregación**.  \n",
    "   - En **Bagging**, se generan múltiples modelos independientes (en este caso, árboles de decisión) entrenados en diferentes subconjuntos de los datos.  \n",
    "   - Luego, sus predicciones se combinan para mejorar la precisión y reducir la varianza del modelo.  \n",
    "   - En **clasificación**, se usa **votación mayoritaria**, y en **regresión**, se usa el **promedio de las predicciones**.\n",
    "\n",
    "   ---\n",
    "   - **b.** ¿Cuál es la idea general detrás de Random Forest?\n",
    "\n",
    "\n",
    "   La idea principal de **Random Forest** es entrenar **múltiples árboles de decisión** en subconjuntos aleatorios de los datos para reducir la varianza y mejorar la precisión.  \n",
    "El proceso general es el siguiente:\n",
    "\n",
    "1. **Bootstrap Sampling**: Se generan varios subconjuntos de los datos de entrenamiento mediante muestreo con reemplazo.\n",
    "2. **Entrenamiento de Árboles de Decisión**: Cada árbol se entrena en un subconjunto diferente.\n",
    "3. **Selección Aleatoria de Features**: En cada nodo del árbol, se selecciona aleatoriamente un subconjunto de variables para dividir los datos.\n",
    "4. **Combinación de Predicciones**:\n",
    "   - En **clasificación**, se usa **votación mayoritaria** entre los árboles.\n",
    "   - En **regresión**, se promedian las predicciones de todos los árboles.\n",
    "   Esto hace que **Random Forest sea más estable y generalice mejor** que un solo árbol de decisión, evitando el sobreajuste.\n",
    "\n",
    "---\n",
    "   - **c.** ¿Por qué se busca baja correlación entre los árboles de Random Forest?\n",
    "\n",
    "\n",
    "   Si los árboles dentro del bosque estuvieran altamente correlacionados, **cometerían los mismos errores**, y el ensemble no mejoraría la precisión.  \n",
    "Por eso, **se busca reducir la correlación** entre los árboles mediante:\n",
    "- **Bootstrap Sampling**, para que cada árbol vea diferentes datos de entrenamiento.\n",
    "- **Selección aleatoria de variables en cada nodo**, lo que obliga a los árboles a aprender características distintas.\n",
    "\n",
    "**Beneficios de una baja correlación entre árboles:**\n",
    "\n",
    "\n",
    "✅ **Mejora la generalización** → Reduce el sobreajuste.  \n",
    "✅ **Aumenta la estabilidad del modelo** → Si un árbol falla, los otros pueden corregirlo.  \n",
    "✅ **Reduce la varianza** → Los errores individuales de los árboles se cancelan entre sí.  \n",
    "\n"
   ]
  },
  {
   "cell_type": "markdown",
   "metadata": {},
   "source": [
    "# **Task 2**"
   ]
  },
  {
   "cell_type": "markdown",
   "metadata": {},
   "source": [
    "# **Clasificación de Mensajes como Spam o Ham usando Bayes/Laplace Smoothing**\n",
    "\n",
    "Este programa entrena un modelo basado en **Naive Bayes** con **Laplace Smoothing** para clasificar mensajes como **ham** (mensaje normal) o **spam** (correo no deseado).\n",
    "\n",
    "## **1. Requisitos del Programa**\n",
    "- Recibir como entrada un archivo llamado **\"entrenamiento.txt\"** (dataset de entrenamiento).\n",
    "- Usar **Naive Bayes** con **Laplace Smoothing** para clasificar mensajes.\n",
    "- Reportar métricas de desempeño del modelo.\n",
    "- Clasificar nuevos mensajes como **spam** o **ham**.\n",
    "- **Restricciones:**\n",
    "  - Se permite entrenar **solo un modelo por dataset** (no se pueden cargar múltiples archivos).\n",
    "  - Se debe **limpiar el dataset** eliminando caracteres especiales y normalizando mayúsculas/minúsculas.\n",
    "  - Cada línea del dataset representa **un mensaje** con su respectiva categoría.\n",
    "  - Se debe dividir el dataset en **training y test**.\n",
    "  - Se permite usar **librerías externas para la división de datos** (`sklearn`).\n",
    "  - ❌ **No se permite usar librerías externas para la construcción del modelo**.\n",
    "\n",
    "---"
   ]
  },
  {
   "cell_type": "markdown",
   "metadata": {},
   "source": [
    "## **2. Cargar el Dataset y Preprocesarlo**\n",
    "Primero, **cargamos el dataset** y aplicamos preprocesamiento eliminando caracteres especiales y convirtiendo el texto a minúsculas."
   ]
  },
  {
   "cell_type": "code",
   "execution_count": 2,
   "metadata": {},
   "outputs": [
    {
     "data": {
      "text/html": [
       "<div>\n",
       "<style scoped>\n",
       "    .dataframe tbody tr th:only-of-type {\n",
       "        vertical-align: middle;\n",
       "    }\n",
       "\n",
       "    .dataframe tbody tr th {\n",
       "        vertical-align: top;\n",
       "    }\n",
       "\n",
       "    .dataframe thead th {\n",
       "        text-align: right;\n",
       "    }\n",
       "</style>\n",
       "<table border=\"1\" class=\"dataframe\">\n",
       "  <thead>\n",
       "    <tr style=\"text-align: right;\">\n",
       "      <th></th>\n",
       "      <th>etiqueta</th>\n",
       "      <th>mensaje</th>\n",
       "    </tr>\n",
       "  </thead>\n",
       "  <tbody>\n",
       "    <tr>\n",
       "      <th>0</th>\n",
       "      <td>ham</td>\n",
       "      <td>go until jurong point crazy available only in ...</td>\n",
       "    </tr>\n",
       "    <tr>\n",
       "      <th>1</th>\n",
       "      <td>ham</td>\n",
       "      <td>ok lar joking wif u oni</td>\n",
       "    </tr>\n",
       "    <tr>\n",
       "      <th>2</th>\n",
       "      <td>spam</td>\n",
       "      <td>free entry in 2 a wkly comp to win fa cup fina...</td>\n",
       "    </tr>\n",
       "    <tr>\n",
       "      <th>3</th>\n",
       "      <td>ham</td>\n",
       "      <td>u dun say so early hor u c already then say</td>\n",
       "    </tr>\n",
       "    <tr>\n",
       "      <th>4</th>\n",
       "      <td>ham</td>\n",
       "      <td>nah i dont think he goes to usf he lives aroun...</td>\n",
       "    </tr>\n",
       "  </tbody>\n",
       "</table>\n",
       "</div>"
      ],
      "text/plain": [
       "  etiqueta                                            mensaje\n",
       "0      ham  go until jurong point crazy available only in ...\n",
       "1      ham                            ok lar joking wif u oni\n",
       "2     spam  free entry in 2 a wkly comp to win fa cup fina...\n",
       "3      ham        u dun say so early hor u c already then say\n",
       "4      ham  nah i dont think he goes to usf he lives aroun..."
      ]
     },
     "execution_count": 2,
     "metadata": {},
     "output_type": "execute_result"
    }
   ],
   "source": [
    "import pandas as pd\n",
    "import re\n",
    "\n",
    "def cargar_dataset(nombre_archivo):\n",
    "    datos = []\n",
    "    with open(nombre_archivo, \"r\", encoding=\"utf-8\") as file:\n",
    "        for linea in file:\n",
    "            etiqueta, mensaje = linea.strip().split(\"\\t\")  \n",
    "            mensaje = limpiar_texto(mensaje)  \n",
    "            datos.append((etiqueta, mensaje))\n",
    "    return pd.DataFrame(datos, columns=[\"etiqueta\", \"mensaje\"])\n",
    "\n",
    "def limpiar_texto(texto):\n",
    "    texto = re.sub(r\"[^a-zA-Z0-9\\s]\", \"\", texto)  \n",
    "    texto = texto.lower().strip()  \n",
    "    return texto\n",
    "\n",
    "df = cargar_dataset(\"entrenamiento.txt\")\n",
    "df.head()"
   ]
  },
  {
   "cell_type": "markdown",
   "metadata": {},
   "source": [
    "# **3. Dividir en Training y Test**\n",
    "\n",
    "Se divide el dataset en 80% training y 20% test"
   ]
  },
  {
   "cell_type": "code",
   "execution_count": 19,
   "metadata": {},
   "outputs": [
    {
     "name": "stdout",
     "output_type": "stream",
     "text": [
      "Tamaño del dataset de entrenamiento: 4452\n",
      "Tamaño del dataset de prueba: 1113\n",
      "Distribución en el dataset de entrenamiento:\n",
      "etiqueta\n",
      "ham     3862\n",
      "spam     590\n",
      "Name: count, dtype: int64\n",
      "Distribución en el dataset de prueba:\n",
      "etiqueta\n",
      "ham     956\n",
      "spam    157\n",
      "Name: count, dtype: int64\n"
     ]
    }
   ],
   "source": [
    "from sklearn.model_selection import train_test_split\n",
    "\n",
    "df = df.sample(frac=1, random_state=42).reset_index(drop=True)\n",
    "X_train, X_test, y_train, y_test = train_test_split(df[\"mensaje\"], df[\"etiqueta\"], test_size=0.2, random_state=42)\n",
    "\n",
    "\n",
    "print(f\"Tamaño del dataset de entrenamiento: {len(X_train)}\")\n",
    "print(f\"Tamaño del dataset de prueba: {len(X_test)}\")\n",
    "\n",
    "print(\"Distribución en el dataset de entrenamiento:\")\n",
    "print(y_train.value_counts()) \n",
    "print(\"Distribución en el dataset de prueba:\")\n",
    "print(y_test.value_counts())\n",
    "\n"
   ]
  },
  {
   "cell_type": "markdown",
   "metadata": {},
   "source": [
    "# **4. Implementar el modelo de Bayes con Laplace Smoothing sin uso de librerías**"
   ]
  },
  {
   "cell_type": "code",
   "execution_count": 16,
   "metadata": {},
   "outputs": [
    {
     "name": "stdout",
     "output_type": "stream",
     "text": [
      "Modelo entrenado correctamente.\n"
     ]
    }
   ],
   "source": [
    "from collections import defaultdict\n",
    "import numpy as np\n",
    "\n",
    "class NaiveBayesSpamClassifier:\n",
    "    def __init__(self, laplace=0.1):\n",
    "        # Factor de laplace smoothing\n",
    "        self.laplace = laplace  \n",
    "        self.vocabulario = set()\n",
    "        self.palabras_spam = defaultdict(int)\n",
    "        self.palabras_ham = defaultdict(int)\n",
    "        self.total_spam = 0\n",
    "        self.total_ham = 0\n",
    "        self.num_spam = 0\n",
    "        self.num_ham = 0\n",
    "\n",
    "    def entrenar(self, X, y):\n",
    "        for mensaje, etiqueta in zip(X, y):\n",
    "            palabras = mensaje.split()\n",
    "            self.vocabulario.update(palabras)\n",
    "            if etiqueta == \"spam\":\n",
    "                self.num_spam += 1\n",
    "                for palabra in palabras:\n",
    "                    self.palabras_spam[palabra] += 1\n",
    "                    self.total_spam += 1\n",
    "            else:\n",
    "                self.num_ham += 1\n",
    "                for palabra in palabras:\n",
    "                    self.palabras_ham[palabra] += 1\n",
    "                    self.total_ham += 1\n",
    "\n",
    "    def predecir(self, mensaje):\n",
    "        palabras = mensaje.split()\n",
    "        vocab_size = len(self.vocabulario)\n",
    "\n",
    "        # Probabilidades iniciales\n",
    "        p_spam = np.log(self.num_spam / (self.num_spam + self.num_ham))\n",
    "        p_ham = np.log(self.num_ham / (self.num_spam + self.num_ham))\n",
    "\n",
    "        # Calcular probabilidades con Laplace Smoothing\n",
    "        for palabra in palabras:\n",
    "            p_spam += np.log((self.palabras_spam[palabra] + self.laplace) / (self.total_spam + vocab_size * self.laplace))\n",
    "            p_ham += np.log((self.palabras_ham[palabra] + self.laplace) / (self.total_ham + vocab_size * self.laplace))\n",
    "\n",
    "        return \"spam\" if p_spam > p_ham else \"ham\"\n",
    "\n",
    "\n",
    "modelo = NaiveBayesSpamClassifier()\n",
    "modelo.entrenar(X_train, y_train)\n",
    "print(\"Modelo entrenado correctamente.\")\n"
   ]
  },
  {
   "cell_type": "markdown",
   "metadata": {},
   "source": [
    "# **5. Evaluar Modelo**"
   ]
  },
  {
   "cell_type": "markdown",
   "metadata": {},
   "source": [
    "Para evaluar el modelo usamos:\n",
    "- **Precisión (Precision)**: Mide cuántos de los mensajes clasificados como spam realmente lo son.\n",
    "- **Recall (Sensibilidad)**: Mide cuántos de los mensajes spam fueron detectados correctamente.\n",
    "- **F1-score**: Es el balance entre precisión y recall.\n",
    "\n",
    "Estas métricas son importantes en clasificación de spam, ya que un **bajo recall** significa que el modelo no detecta suficiente spam, y un **bajo precision** significa que clasifica erróneamente mensajes ham como spam.ara evaluar el rendimiento del modelo, calculamos precisión, recall y f1-score."
   ]
  },
  {
   "cell_type": "code",
   "execution_count": 17,
   "metadata": {},
   "outputs": [
    {
     "name": "stdout",
     "output_type": "stream",
     "text": [
      "              precision    recall  f1-score   support\n",
      "\n",
      "         ham       0.99      0.98      0.99       963\n",
      "        spam       0.89      0.96      0.92       150\n",
      "\n",
      "    accuracy                           0.98      1113\n",
      "   macro avg       0.94      0.97      0.96      1113\n",
      "weighted avg       0.98      0.98      0.98      1113\n",
      "\n"
     ]
    }
   ],
   "source": [
    "from sklearn.metrics import classification_report\n",
    "\n",
    "\n",
    "y_pred = [modelo.predecir(mensaje) for mensaje in X_test]\n",
    "\n",
    "\n",
    "print(classification_report(y_test, y_pred, target_names=[\"ham\", \"spam\"]))\n"
   ]
  },
  {
   "cell_type": "markdown",
   "metadata": {},
   "source": [
    "# **6. Predicción Mensajes Futuros**"
   ]
  },
  {
   "cell_type": "code",
   "execution_count": 6,
   "metadata": {},
   "outputs": [
    {
     "name": "stdout",
     "output_type": "stream",
     "text": [
      "📩 Ingrese mensajes para clasificar. Escriba 'salir' para terminar.\n",
      "\n",
      "🔍 **Resultados de clasificación:**\n",
      "📩 Mensaje ingresado: amo k\n",
      "📌 Probabilidad de Spam: 0.0033\n",
      "📌 Probabilidad de Ham: 0.9967\n",
      "✅ **El mensaje ha sido clasificado como: HAM**\n",
      "⚠️ Palabras no vistas en el entrenamiento: amo\n",
      "\n",
      "==================================================\n",
      "\n",
      "\n",
      "🔍 **Resultados de clasificación:**\n",
      "📩 Mensaje ingresado: \n",
      "📌 Probabilidad de Spam: 0.1312\n",
      "📌 Probabilidad de Ham: 0.8688\n",
      "✅ **El mensaje ha sido clasificado como: HAM**\n",
      "\n",
      "==================================================\n",
      "\n",
      "\n",
      "🔍 **Resultados de clasificación:**\n",
      "📩 Mensaje ingresado: \n",
      "📌 Probabilidad de Spam: 0.1312\n",
      "📌 Probabilidad de Ham: 0.8688\n",
      "✅ **El mensaje ha sido clasificado como: HAM**\n",
      "\n",
      "==================================================\n",
      "\n",
      "\n",
      "🔍 **Resultados de clasificación:**\n",
      "📩 Mensaje ingresado: \n",
      "📌 Probabilidad de Spam: 0.1312\n",
      "📌 Probabilidad de Ham: 0.8688\n",
      "✅ **El mensaje ha sido clasificado como: HAM**\n",
      "\n",
      "==================================================\n",
      "\n",
      "\n",
      "🔍 **Resultados de clasificación:**\n",
      "📩 Mensaje ingresado: \n",
      "📌 Probabilidad de Spam: 0.1312\n",
      "📌 Probabilidad de Ham: 0.8688\n",
      "✅ **El mensaje ha sido clasificado como: HAM**\n",
      "\n",
      "==================================================\n",
      "\n",
      "\n",
      "🔍 **Resultados de clasificación:**\n",
      "📩 Mensaje ingresado: \n",
      "📌 Probabilidad de Spam: 0.1312\n",
      "📌 Probabilidad de Ham: 0.8688\n",
      "✅ **El mensaje ha sido clasificado como: HAM**\n",
      "\n",
      "==================================================\n",
      "\n",
      "\n",
      "🔍 **Resultados de clasificación:**\n",
      "📩 Mensaje ingresado: \n",
      "📌 Probabilidad de Spam: 0.1312\n",
      "📌 Probabilidad de Ham: 0.8688\n",
      "✅ **El mensaje ha sido clasificado como: HAM**\n",
      "\n",
      "==================================================\n",
      "\n",
      "\n",
      "🔍 **Resultados de clasificación:**\n",
      "📩 Mensaje ingresado: \n",
      "📌 Probabilidad de Spam: 0.1312\n",
      "📌 Probabilidad de Ham: 0.8688\n",
      "✅ **El mensaje ha sido clasificado como: HAM**\n",
      "\n",
      "==================================================\n",
      "\n",
      "\n",
      "🔍 **Resultados de clasificación:**\n",
      "📩 Mensaje ingresado: \n",
      "📌 Probabilidad de Spam: 0.1312\n",
      "📌 Probabilidad de Ham: 0.8688\n",
      "✅ **El mensaje ha sido clasificado como: HAM**\n",
      "\n",
      "==================================================\n",
      "\n",
      "🚪 Saliendo del programa...\n"
     ]
    }
   ],
   "source": [
    "def predecir_probabilidades(modelo, mensaje):\n",
    "    mensaje = limpiar_texto(mensaje)  \n",
    "    palabras = mensaje.split()\n",
    "    vocab_size = len(modelo.vocabulario)\n",
    "\n",
    "    p_spam_log = np.log(modelo.num_spam / (modelo.num_spam + modelo.num_ham))\n",
    "    p_ham_log = np.log(modelo.num_ham / (modelo.num_spam + modelo.num_ham))\n",
    "\n",
    "    palabras_no_vistas = [palabra for palabra in palabras if palabra not in modelo.vocabulario]\n",
    "\n",
    "    for palabra in palabras:\n",
    "        p_spam_log += np.log((modelo.palabras_spam[palabra] + modelo.laplace) / (modelo.total_spam + vocab_size * modelo.laplace))\n",
    "        p_ham_log += np.log((modelo.palabras_ham[palabra] + modelo.laplace) / (modelo.total_ham + vocab_size * modelo.laplace))\n",
    "\n",
    "    p_spam = np.exp(p_spam_log)\n",
    "    p_ham = np.exp(p_ham_log)\n",
    "\n",
    "    total = p_spam + p_ham\n",
    "    p_spam /= total\n",
    "    p_ham /= total\n",
    "\n",
    "    clasificacion = \"spam\" if p_spam > p_ham else \"ham\"\n",
    "\n",
    "    return p_spam, p_ham, clasificacion, palabras_no_vistas\n",
    "\n",
    "modelo = NaiveBayesSpamClassifier(laplace=0.1)\n",
    "modelo.entrenar(X_train, y_train)\n",
    "\n",
    "\n",
    "print(\"📩 Ingrese mensajes para clasificar. Escriba 'salir' para terminar.\")\n",
    "\n",
    "while True:\n",
    "    mensaje = input(\"✏️  Escriba un mensaje: \").strip()\n",
    "    if mensaje.lower() == \"salir\":\n",
    "        print(\"🚪 Saliendo del programa...\")\n",
    "        break\n",
    "\n",
    "    p_spam, p_ham, clasificacion, palabras_no_vistas = predecir_probabilidades(modelo, mensaje)\n",
    "\n",
    "    print(f\"\\n🔍 **Resultados de clasificación:**\")\n",
    "    print(f\"📩 Mensaje ingresado: {mensaje}\")\n",
    "    print(f\"📌 Probabilidad de Spam: {p_spam:.4f}\")\n",
    "    print(f\"📌 Probabilidad de Ham: {p_ham:.4f}\")\n",
    "    print(f\"✅ **El mensaje ha sido clasificado como: {clasificacion.upper()}**\")\n",
    "    \n",
    "    if palabras_no_vistas:\n",
    "        print(f\"⚠️ Palabras no vistas en el entrenamiento: {', '.join(palabras_no_vistas)}\")\n",
    "\n",
    "    print(\"\\n\" + \"=\"*50 + \"\\n\")\n"
   ]
  },
  {
   "cell_type": "markdown",
   "metadata": {},
   "source": [
    "# **7. Evaluación Modelo con librerías**"
   ]
  },
  {
   "cell_type": "code",
   "execution_count": 20,
   "metadata": {},
   "outputs": [
    {
     "name": "stdout",
     "output_type": "stream",
     "text": [
      "Tamaño del dataset de entrenamiento: 4452\n",
      "Tamaño del dataset de prueba: 1113\n"
     ]
    }
   ],
   "source": [
    "import pandas as pd\n",
    "import re\n",
    "from sklearn.model_selection import train_test_split\n",
    "from sklearn.feature_extraction.text import CountVectorizer\n",
    "\n",
    "def limpiar_texto(texto):\n",
    "    texto = texto.lower().strip()\n",
    "    texto = re.sub(r\"[^a-zA-Z0-9\\s]\", \"\", texto)  \n",
    "    return texto\n",
    "\n",
    "def cargar_dataset(nombre_archivo):\n",
    "    datos = []\n",
    "    with open(nombre_archivo, \"r\", encoding=\"utf-8\") as file:\n",
    "        for linea in file:\n",
    "            etiqueta, mensaje = linea.strip().split(\"\\t\")  \n",
    "            mensaje = limpiar_texto(mensaje)  \n",
    "            datos.append((etiqueta, mensaje))\n",
    "    return pd.DataFrame(datos, columns=[\"etiqueta\", \"mensaje\"])\n",
    "\n",
    "df = cargar_dataset(\"entrenamiento.txt\")\n",
    "\n",
    "X_train, X_test, y_train, y_test = train_test_split(df[\"mensaje\"], df[\"etiqueta\"], test_size=0.2, random_state=42)\n",
    "\n",
    "print(f\"Tamaño del dataset de entrenamiento: {len(X_train)}\")\n",
    "print(f\"Tamaño del dataset de prueba: {len(X_test)}\")\n"
   ]
  },
  {
   "cell_type": "markdown",
   "metadata": {},
   "source": [
    "**Justificación de las métricas utilizadas**\n",
    "- **Precisión (Precision)**: Mide cuántos de los mensajes clasificados como spam realmente lo son.\n",
    "  → Es importante en este problema porque un **falso positivo** (clasificar un mensaje ham como spam) es crítico.\n",
    "  \n",
    "- **Recall (Sensibilidad)**: Mide cuántos de los mensajes spam fueron detectados correctamente.\n",
    "  → Un **bajo recall** significa que el modelo no detecta suficiente spam.\n",
    "\n",
    "- **F1-score**: Es el balance entre precisión y recall.\n",
    "  → Se usa en problemas desbalanceados como clasificación de spam, donde queremos reducir **falsos positivos y falsos negativos**."
   ]
  },
  {
   "cell_type": "code",
   "execution_count": 21,
   "metadata": {},
   "outputs": [
    {
     "name": "stdout",
     "output_type": "stream",
     "text": [
      "📊 **Evaluación del modelo con `MultinomialNB` de sklearn:**\n",
      "              precision    recall  f1-score   support\n",
      "\n",
      "         ham       0.95      1.00      0.97       950\n",
      "        spam       1.00      0.67      0.80       163\n",
      "\n",
      "    accuracy                           0.95      1113\n",
      "   macro avg       0.97      0.83      0.89      1113\n",
      "weighted avg       0.95      0.95      0.95      1113\n",
      "\n"
     ]
    }
   ],
   "source": [
    "from sklearn.naive_bayes import MultinomialNB\n",
    "from sklearn.pipeline import make_pipeline\n",
    "from sklearn.metrics import classification_report\n",
    "from sklearn.feature_extraction.text import TfidfVectorizer\n",
    "\n",
    "vectorizer = TfidfVectorizer()\n",
    "modelo_sklearn = make_pipeline(vectorizer, MultinomialNB())\n",
    "modelo_sklearn.fit(X_train, y_train)\n",
    "\n",
    "y_pred_sklearn = modelo_sklearn.predict(X_test)\n",
    "\n",
    "print(\"📊 **Evaluación del modelo con `MultinomialNB` de sklearn:**\")\n",
    "print(classification_report(y_test, y_pred_sklearn, target_names=[\"ham\", \"spam\"]))"
   ]
  },
  {
   "cell_type": "markdown",
   "metadata": {},
   "source": [
    "# **Comparación de Modelos de Naive Bayes**\n",
    "\n",
    "## **1. Introducción**\n",
    "Se entrenaron dos modelos de Naive Bayes para clasificar mensajes como spam o ham:\n",
    "- **Modelo sin librerías**: Implementado manualmente con Laplace Smoothing.\n",
    "- **Modelo con `MultinomialNB` de sklearn** utilizando `TfidfVectorizer`.\n",
    "\n",
    "El dataset está desbalanceado:\n",
    "- **Entrenamiento:** 3862 ham, 590 spam.\n",
    "- **Prueba:** 956 ham, 157 spam.\n",
    "\n",
    "## **2. Resultados**\n",
    "### **Modelo sin librerías**\n",
    "```\n",
    "Precisión: Ham 0.99 | Spam 0.89\n",
    "Recall: Ham 0.98 | Spam 0.96\n",
    "F1-score: Ham 0.99 | Spam 0.92\n",
    "Accuracy: 0.98\n",
    "```\n",
    "\n",
    "### **Modelo con `MultinomialNB` y `TfidfVectorizer`**\n",
    "```\n",
    "Precisión: Ham 0.95 | Spam 1.00\n",
    "Recall: Ham 1.00 | Spam 0.67\n",
    "F1-score: Ham 0.97 | Spam 0.80\n",
    "Accuracy: 0.95\n",
    "```\n",
    "\n",
    "## **3. ¿Cuál implementación fue mejor?**\n",
    "- **Si el objetivo es detectar spam, el modelo sin librerías es mejor** (96% recall en spam vs. 67% en `MultinomialNB`).\n",
    "- **Si el objetivo es generalizar mejor y evitar sobreajuste, `MultinomialNB` con `TfidfVectorizer` es mejor** (mejor equilibrio entre clases y menos sesgo).\n",
    "\n",
    "## **4. ¿Por qué existe esta diferencia?**\n",
    "1. **Dataset desbalanceado**: `MultinomialNB` tiende a favorecer ham, lo que reduce su recall en spam.\n",
    "2. **Cálculo de probabilidades**: `MultinomialNB` usa `TfidfVectorizer`, que normaliza la frecuencia de las palabras, mientras que el modelo manual usa conteo directo.\n",
    "3. **Sobreajuste del modelo sin librerías**: Su alto recall en spam puede deberse a que ha memorizado palabras clave específicas en lugar de generalizar.\n",
    "4. **Diferencia en representación de texto**: `TfidfVectorizer` reduce el peso de palabras muy frecuentes y resalta términos distintivos, lo que afecta la clasificación de spam.\n",
    "\n",
    "## **5. Conclusión**\n",
    "- **El modelo sin librerías es mejor para detectar spam, pero puede estar sobreajustado.**\n",
    "- **`MultinomialNB` con `TfidfVectorizer` generaliza mejor, pero pierde spam.**\n",
    "- **Se recomienda ajustar `MultinomialNB` con oversampling de spam y mejor preprocesamiento para mejorar su recall.**\n",
    "\n"
   ]
  },
  {
   "cell_type": "markdown",
   "metadata": {},
   "source": [
    "# **3. Clasificación de Partidas de League of Legends**\n",
    "\n",
    "## **Introducción**\n",
    "League of Legends es un juego online multijugador categorizado como MOBA (Multiplayer Online Battle Arena). En este juego, dos equipos (azul y rojo) de cinco jugadores compiten con el objetivo de derribar el Nexus enemigo.\n",
    "\n",
    "El propósito de este proyecto es construir un modelo de clasificación que prediga si el equipo azul gana una partida, utilizando un conjunto de datos de League of Legends. \n",
    "\n",
    "## **Exploración de Datos**\n",
    "En esta sección realizaremos una exploración inicial del dataset para comprender su estructura y prepararlo para el modelo de clasificación.\n",
    "\n",
    "### **1. Carga de Datos**\n",
    "- Cargar el dataset en un DataFrame de Pandas.\n",
    "- Inspeccionar las primeras filas y verificar información general de las variables.\n",
    "\n",
    "### **2. Preprocesamiento de Datos**\n",
    "- **Codificación de variables**: Transformar variables categóricas en numéricas si es necesario.\n",
    "- **Balanceo del dataset**: Verificar si la variable objetivo está balanceada y, si no lo está, aplicar técnicas de balanceo.\n",
    "- **Escalado de variables**: Normalizar o estandarizar las características si es necesario.\n",
    "- **Selección de características**: Determinar qué variables son más relevantes para el modelo.\n",
    "\n",
    "## **División del Dataset**\n",
    "El dataset se dividirá en:\n",
    "- **80%** para entrenamiento.\n",
    "- **20%** para prueba.\n",
    "- **Opcionalmente**, si se requiere, el conjunto de prueba se subdividirá en **10%** para validación y **90%** para evaluación.\n",
    "\n",
    "## **Construcción del Modelo**\n",
    "- Selección del modelo de clasificación adecuado.\n",
    "- Entrenamiento del modelo con los datos preparados.\n",
    "- Evaluación del desempeño del modelo con métricas adecuadas.\n",
    "\n",
    "## **Métrica de Desempeño**\n",
    "Para evaluar el modelo, se seleccionará una métrica de desempeño basada en la naturaleza del problema:\n",
    "- **Exactitud (Accuracy)**: Útil si el dataset está balanceado.\n",
    "- **F1-Score**: Adecuado en caso de un dataset desbalanceado.\n",
    "- **ROC-AUC**: Para evaluar la capacidad del modelo de distinguir entre clases positivas y negativas.\n",
    "\n",
    "Se justificará la elección de la métrica en función del análisis del dataset.\n",
    "\n",
    "## **Conclusión**\n",
    "Se analizarán los resultados obtenidos y se discutirán mejoras posibles en la clasificación de partidas de League of Legends.\n"
   ]
  },
  {
   "cell_type": "markdown",
   "metadata": {},
   "source": [
    "\n",
    "# Paso 1: Carga y Exploración del Dataset"
   ]
  },
  {
   "cell_type": "code",
   "execution_count": 26,
   "metadata": {},
   "outputs": [
    {
     "data": {
      "text/html": [
       "<div>\n",
       "<style scoped>\n",
       "    .dataframe tbody tr th:only-of-type {\n",
       "        vertical-align: middle;\n",
       "    }\n",
       "\n",
       "    .dataframe tbody tr th {\n",
       "        vertical-align: top;\n",
       "    }\n",
       "\n",
       "    .dataframe thead th {\n",
       "        text-align: right;\n",
       "    }\n",
       "</style>\n",
       "<table border=\"1\" class=\"dataframe\">\n",
       "  <thead>\n",
       "    <tr style=\"text-align: right;\">\n",
       "      <th></th>\n",
       "      <th>gameId</th>\n",
       "      <th>blueWins</th>\n",
       "      <th>blueWardsPlaced</th>\n",
       "      <th>blueWardsDestroyed</th>\n",
       "      <th>blueFirstBlood</th>\n",
       "      <th>blueKills</th>\n",
       "      <th>blueDeaths</th>\n",
       "      <th>blueAssists</th>\n",
       "      <th>blueEliteMonsters</th>\n",
       "      <th>blueDragons</th>\n",
       "      <th>...</th>\n",
       "      <th>redTowersDestroyed</th>\n",
       "      <th>redTotalGold</th>\n",
       "      <th>redAvgLevel</th>\n",
       "      <th>redTotalExperience</th>\n",
       "      <th>redTotalMinionsKilled</th>\n",
       "      <th>redTotalJungleMinionsKilled</th>\n",
       "      <th>redGoldDiff</th>\n",
       "      <th>redExperienceDiff</th>\n",
       "      <th>redCSPerMin</th>\n",
       "      <th>redGoldPerMin</th>\n",
       "    </tr>\n",
       "  </thead>\n",
       "  <tbody>\n",
       "    <tr>\n",
       "      <th>0</th>\n",
       "      <td>4519157822</td>\n",
       "      <td>0</td>\n",
       "      <td>28</td>\n",
       "      <td>2</td>\n",
       "      <td>1</td>\n",
       "      <td>9</td>\n",
       "      <td>6</td>\n",
       "      <td>11</td>\n",
       "      <td>0</td>\n",
       "      <td>0</td>\n",
       "      <td>...</td>\n",
       "      <td>0</td>\n",
       "      <td>16567</td>\n",
       "      <td>6.8</td>\n",
       "      <td>17047</td>\n",
       "      <td>197</td>\n",
       "      <td>55</td>\n",
       "      <td>-643</td>\n",
       "      <td>8</td>\n",
       "      <td>19.7</td>\n",
       "      <td>1656.7</td>\n",
       "    </tr>\n",
       "    <tr>\n",
       "      <th>1</th>\n",
       "      <td>4523371949</td>\n",
       "      <td>0</td>\n",
       "      <td>12</td>\n",
       "      <td>1</td>\n",
       "      <td>0</td>\n",
       "      <td>5</td>\n",
       "      <td>5</td>\n",
       "      <td>5</td>\n",
       "      <td>0</td>\n",
       "      <td>0</td>\n",
       "      <td>...</td>\n",
       "      <td>1</td>\n",
       "      <td>17620</td>\n",
       "      <td>6.8</td>\n",
       "      <td>17438</td>\n",
       "      <td>240</td>\n",
       "      <td>52</td>\n",
       "      <td>2908</td>\n",
       "      <td>1173</td>\n",
       "      <td>24.0</td>\n",
       "      <td>1762.0</td>\n",
       "    </tr>\n",
       "    <tr>\n",
       "      <th>2</th>\n",
       "      <td>4521474530</td>\n",
       "      <td>0</td>\n",
       "      <td>15</td>\n",
       "      <td>0</td>\n",
       "      <td>0</td>\n",
       "      <td>7</td>\n",
       "      <td>11</td>\n",
       "      <td>4</td>\n",
       "      <td>1</td>\n",
       "      <td>1</td>\n",
       "      <td>...</td>\n",
       "      <td>0</td>\n",
       "      <td>17285</td>\n",
       "      <td>6.8</td>\n",
       "      <td>17254</td>\n",
       "      <td>203</td>\n",
       "      <td>28</td>\n",
       "      <td>1172</td>\n",
       "      <td>1033</td>\n",
       "      <td>20.3</td>\n",
       "      <td>1728.5</td>\n",
       "    </tr>\n",
       "    <tr>\n",
       "      <th>3</th>\n",
       "      <td>4524384067</td>\n",
       "      <td>0</td>\n",
       "      <td>43</td>\n",
       "      <td>1</td>\n",
       "      <td>0</td>\n",
       "      <td>4</td>\n",
       "      <td>5</td>\n",
       "      <td>5</td>\n",
       "      <td>1</td>\n",
       "      <td>0</td>\n",
       "      <td>...</td>\n",
       "      <td>0</td>\n",
       "      <td>16478</td>\n",
       "      <td>7.0</td>\n",
       "      <td>17961</td>\n",
       "      <td>235</td>\n",
       "      <td>47</td>\n",
       "      <td>1321</td>\n",
       "      <td>7</td>\n",
       "      <td>23.5</td>\n",
       "      <td>1647.8</td>\n",
       "    </tr>\n",
       "    <tr>\n",
       "      <th>4</th>\n",
       "      <td>4436033771</td>\n",
       "      <td>0</td>\n",
       "      <td>75</td>\n",
       "      <td>4</td>\n",
       "      <td>0</td>\n",
       "      <td>6</td>\n",
       "      <td>6</td>\n",
       "      <td>6</td>\n",
       "      <td>0</td>\n",
       "      <td>0</td>\n",
       "      <td>...</td>\n",
       "      <td>0</td>\n",
       "      <td>17404</td>\n",
       "      <td>7.0</td>\n",
       "      <td>18313</td>\n",
       "      <td>225</td>\n",
       "      <td>67</td>\n",
       "      <td>1004</td>\n",
       "      <td>-230</td>\n",
       "      <td>22.5</td>\n",
       "      <td>1740.4</td>\n",
       "    </tr>\n",
       "  </tbody>\n",
       "</table>\n",
       "<p>5 rows × 40 columns</p>\n",
       "</div>"
      ],
      "text/plain": [
       "       gameId  blueWins  blueWardsPlaced  blueWardsDestroyed  blueFirstBlood  \\\n",
       "0  4519157822         0               28                   2               1   \n",
       "1  4523371949         0               12                   1               0   \n",
       "2  4521474530         0               15                   0               0   \n",
       "3  4524384067         0               43                   1               0   \n",
       "4  4436033771         0               75                   4               0   \n",
       "\n",
       "   blueKills  blueDeaths  blueAssists  blueEliteMonsters  blueDragons  ...  \\\n",
       "0          9           6           11                  0            0  ...   \n",
       "1          5           5            5                  0            0  ...   \n",
       "2          7          11            4                  1            1  ...   \n",
       "3          4           5            5                  1            0  ...   \n",
       "4          6           6            6                  0            0  ...   \n",
       "\n",
       "   redTowersDestroyed  redTotalGold  redAvgLevel  redTotalExperience  \\\n",
       "0                   0         16567          6.8               17047   \n",
       "1                   1         17620          6.8               17438   \n",
       "2                   0         17285          6.8               17254   \n",
       "3                   0         16478          7.0               17961   \n",
       "4                   0         17404          7.0               18313   \n",
       "\n",
       "   redTotalMinionsKilled  redTotalJungleMinionsKilled  redGoldDiff  \\\n",
       "0                    197                           55         -643   \n",
       "1                    240                           52         2908   \n",
       "2                    203                           28         1172   \n",
       "3                    235                           47         1321   \n",
       "4                    225                           67         1004   \n",
       "\n",
       "   redExperienceDiff  redCSPerMin  redGoldPerMin  \n",
       "0                  8         19.7         1656.7  \n",
       "1               1173         24.0         1762.0  \n",
       "2               1033         20.3         1728.5  \n",
       "3                  7         23.5         1647.8  \n",
       "4               -230         22.5         1740.4  \n",
       "\n",
       "[5 rows x 40 columns]"
      ]
     },
     "execution_count": 26,
     "metadata": {},
     "output_type": "execute_result"
    }
   ],
   "source": [
    "import numpy as np\n",
    "import pandas as pd\n",
    "import matplotlib.pyplot as plt\n",
    "from sklearn.model_selection import train_test_split\n",
    "\n",
    "\n",
    "file_path = \"high_diamond_ranked_10min.csv\"\n",
    "data = pd.read_csv(file_path)\n",
    "data.head()\n"
   ]
  },
  {
   "cell_type": "markdown",
   "metadata": {},
   "source": [
    "# Paso 2: Preprocesamiento de Datos"
   ]
  },
  {
   "cell_type": "code",
   "execution_count": 27,
   "metadata": {},
   "outputs": [
    {
     "data": {
      "text/html": [
       "<div>\n",
       "<style scoped>\n",
       "    .dataframe tbody tr th:only-of-type {\n",
       "        vertical-align: middle;\n",
       "    }\n",
       "\n",
       "    .dataframe tbody tr th {\n",
       "        vertical-align: top;\n",
       "    }\n",
       "\n",
       "    .dataframe thead th {\n",
       "        text-align: right;\n",
       "    }\n",
       "</style>\n",
       "<table border=\"1\" class=\"dataframe\">\n",
       "  <thead>\n",
       "    <tr style=\"text-align: right;\">\n",
       "      <th></th>\n",
       "      <th>blueGoldDiff</th>\n",
       "      <th>blueExperienceDiff</th>\n",
       "      <th>blueWins</th>\n",
       "    </tr>\n",
       "  </thead>\n",
       "  <tbody>\n",
       "    <tr>\n",
       "      <th>0</th>\n",
       "      <td>0.256215</td>\n",
       "      <td>0.013341</td>\n",
       "      <td>-1</td>\n",
       "    </tr>\n",
       "    <tr>\n",
       "      <th>1</th>\n",
       "      <td>-1.191194</td>\n",
       "      <td>-0.593312</td>\n",
       "      <td>-1</td>\n",
       "    </tr>\n",
       "    <tr>\n",
       "      <th>2</th>\n",
       "      <td>-0.483590</td>\n",
       "      <td>-0.520410</td>\n",
       "      <td>-1</td>\n",
       "    </tr>\n",
       "    <tr>\n",
       "      <th>3</th>\n",
       "      <td>-0.544323</td>\n",
       "      <td>0.013862</td>\n",
       "      <td>-1</td>\n",
       "    </tr>\n",
       "    <tr>\n",
       "      <th>4</th>\n",
       "      <td>-0.415112</td>\n",
       "      <td>0.137276</td>\n",
       "      <td>-1</td>\n",
       "    </tr>\n",
       "  </tbody>\n",
       "</table>\n",
       "</div>"
      ],
      "text/plain": [
       "   blueGoldDiff  blueExperienceDiff  blueWins\n",
       "0      0.256215            0.013341        -1\n",
       "1     -1.191194           -0.593312        -1\n",
       "2     -0.483590           -0.520410        -1\n",
       "3     -0.544323            0.013862        -1\n",
       "4     -0.415112            0.137276        -1"
      ]
     },
     "execution_count": 27,
     "metadata": {},
     "output_type": "execute_result"
    }
   ],
   "source": [
    "target = \"blueWins\"\n",
    "features = [\"blueGoldDiff\", \"blueExperienceDiff\"]\n",
    "data = data[features + [target]]\n",
    "\n",
    "\n",
    "data[features] = (data[features] - data[features].mean()) / data[features].std()\n",
    "data[target] = data[target].apply(lambda x: 1 if x == 1 else -1)\n",
    "\n",
    "\n",
    "data.head()\n"
   ]
  },
  {
   "cell_type": "markdown",
   "metadata": {},
   "source": [
    "# Paso 3: División del Dataset"
   ]
  },
  {
   "cell_type": "code",
   "execution_count": 28,
   "metadata": {},
   "outputs": [
    {
     "name": "stdout",
     "output_type": "stream",
     "text": [
      "Tamaño de entrenamiento: 7903 muestras\n",
      "Tamaño de validación: 988 muestras\n",
      "Tamaño de prueba: 988 muestras\n"
     ]
    }
   ],
   "source": [
    "X = data[features].values\n",
    "y = data[target].values\n",
    "\n",
    "# Dividir en 80% entrenamiento y 20% restante \n",
    "X_train, X_remaining, y_train, y_remaining = train_test_split(X, y, test_size=0.2, random_state=42)\n",
    "\n",
    "# Del 20% restante, dividir en 50% validación y 50% prueba \n",
    "X_val, X_test, y_val, y_test = train_test_split(X_remaining, y_remaining, test_size=0.5, random_state=42)\n",
    "\n",
    "print(f\"Tamaño de entrenamiento: {X_train.shape[0]} muestras\")\n",
    "print(f\"Tamaño de validación: {X_val.shape[0]} muestras\")\n",
    "print(f\"Tamaño de prueba: {X_test.shape[0]} muestras\")\n"
   ]
  },
  {
   "cell_type": "markdown",
   "metadata": {},
   "source": [
    "# Paso 4: Implementación del Algoritmo SVM desde Cero\n"
   ]
  },
  {
   "cell_type": "code",
   "execution_count": 46,
   "metadata": {},
   "outputs": [],
   "source": [
    "class SVM:\n",
    "    def __init__(self, learning_rate=0.001, lambda_param=0.01, n_iters=1000):\n",
    "        self.lr = learning_rate\n",
    "        self.lambda_param = lambda_param\n",
    "        self.n_iters = n_iters\n",
    "        self.w = None\n",
    "        self.b = None\n",
    "    \n",
    "    def fit(self, X, y):\n",
    "        n_samples, n_features = X.shape\n",
    "        self.w = np.zeros(n_features)\n",
    "        self.b = 0\n",
    "        \n",
    "        for _ in range(self.n_iters):\n",
    "            margins = y * (np.dot(X, self.w) - self.b)\n",
    "            mask = margins < 1\n",
    "            \n",
    "            dw = self.lambda_param * self.w - np.dot(X[mask].T, y[mask]) / len(y)\n",
    "            db = -np.mean(y[mask])\n",
    "            \n",
    "            self.w -= self.lr * dw\n",
    "            self.b -= self.lr * db\n",
    "    \n",
    "    def predict(self, X):\n",
    "        return np.sign(np.dot(X, self.w) - self.b)\n"
   ]
  },
  {
   "cell_type": "markdown",
   "metadata": {},
   "source": [
    "# Paso 5: Entrenamiento del Modelo"
   ]
  },
  {
   "cell_type": "code",
   "execution_count": 47,
   "metadata": {},
   "outputs": [],
   "source": [
    "svm = SVM(learning_rate=0.001, lambda_param=0.01, n_iters=1000)\n",
    "svm.fit(X_train, y_train)"
   ]
  },
  {
   "cell_type": "markdown",
   "metadata": {},
   "source": [
    "# Paso 6.1: Verificación del Balance de Clases\n",
    "\n",
    "Antes de elegir **precisión (accuracy)** como métrica principal, es importante comprobar si las clases (`blueWins`) están equilibradas.\n",
    "\n",
    "### 🔍 ¿Por qué es importante?\n",
    "- Si las clases están **balanceadas** (50%-50% aproximadamente), la **precisión** es una métrica adecuada.\n",
    "- Si las clases están **desbalanceadas** (ej. 90%-10%), la precisión puede ser engañosa, y métricas como **F1-score** o **AUC-ROC** serían más apropiadas.\n",
    "\n",
    "✅ **Objetivo:**\n",
    "- Contar cuántos valores `1` (victoria del equipo azul) y `-1` (derrota del equipo azul) existen en el dataset.\n",
    "- Visualizar la distribución con un gráfico de barras.\n"
   ]
  },
  {
   "cell_type": "code",
   "execution_count": 48,
   "metadata": {},
   "outputs": [
    {
     "name": "stdout",
     "output_type": "stream",
     "text": [
      "Distribución de la variable blueWins:\n",
      "blueWins\n",
      "-1    4949\n",
      " 1    4930\n",
      "Name: count, dtype: int64\n"
     ]
    },
    {
     "name": "stderr",
     "output_type": "stream",
     "text": [
      "C:\\Users\\sofia\\AppData\\Local\\Temp\\ipykernel_14164\\425796247.py:12: FutureWarning: \n",
      "\n",
      "Passing `palette` without assigning `hue` is deprecated and will be removed in v0.14.0. Assign the `x` variable to `hue` and set `legend=False` for the same effect.\n",
      "\n",
      "  sns.barplot(x=class_counts.index, y=class_counts.values, palette=\"coolwarm\")\n"
     ]
    },
    {
     "data": {
      "image/png": "[encoded data removed]",
      "text/plain": [
       "<Figure size 600x400 with 1 Axes>"
      ]
     },
     "metadata": {},
     "output_type": "display_data"
    }
   ],
   "source": [
    "import seaborn as sns\n",
    "\n",
    "# Contar el número de ocurrencias de cada clase\n",
    "class_counts = data[\"blueWins\"].value_counts()\n",
    "\n",
    "# Mostrar el conteo de clases\n",
    "print(\"Distribución de la variable blueWins:\")\n",
    "print(class_counts)\n",
    "\n",
    "# Graficar la distribución\n",
    "plt.figure(figsize=(6,4))\n",
    "sns.barplot(x=class_counts.index, y=class_counts.values, palette=\"coolwarm\")\n",
    "plt.xlabel(\"Clase (blueWins)\")\n",
    "plt.ylabel(\"Número de muestras\")\n",
    "plt.title(\"Distribución de Clases en el Dataset\")\n",
    "plt.xticks(ticks=[0, 1], labels=[\"Derrota (-1)\", \"Victoria (1)\"])\n",
    "plt.show()\n"
   ]
  },
  {
   "cell_type": "markdown",
   "metadata": {},
   "source": [
    "# Paso 6: Evaluación del Modelo\n",
    "\n",
    "Medimos el desempeño de nuestro SVM en el conjunto de prueba.\n",
    "\n",
    "✅ **Métrica elegida: Precisión (Accuracy)**\n",
    "La **precisión** mide el porcentaje de clasificaciones correctas. Es adecuada en este caso porque las clases están balanceadas"
   ]
  },
  {
   "cell_type": "code",
   "execution_count": 49,
   "metadata": {},
   "outputs": [
    {
     "name": "stdout",
     "output_type": "stream",
     "text": [
      "Precisión del modelo en el conjunto de prueba: 0.73\n"
     ]
    }
   ],
   "source": [
    "y_pred = svm.predict(X_test)\n",
    "accuracy = np.mean(y_pred == y_test)\n",
    "print(f\"Precisión del modelo en el conjunto de prueba: {accuracy:.2f}\")"
   ]
  },
  {
   "cell_type": "markdown",
   "metadata": {},
   "source": [
    "# Paso 7: Visualización de Resultados"
   ]
  },
  {
   "cell_type": "code",
   "execution_count": 41,
   "metadata": {},
   "outputs": [
    {
     "data": {
      "image/png": "[encoded data removed]",
      "text/plain": [
       "<Figure size 800x600 with 1 Axes>"
      ]
     },
     "metadata": {},
     "output_type": "display_data"
    }
   ],
   "source": [
    "x_min, x_max = X_test[:, 0].min() - 1, X_test[:, 0].max() + 1\n",
    "y_min, y_max = X_test[:, 1].min() - 1, X_test[:, 1].max() + 1\n",
    "xx, yy = np.meshgrid(np.linspace(x_min, x_max, 100), np.linspace(y_min, y_max, 100))\n",
    "Z = svm.predict(np.c_[xx.ravel(), yy.ravel()])\n",
    "Z = Z.reshape(xx.shape)\n",
    "\n",
    "colors = np.array([\"red\" if y == -1 else \"blue\" for y in y_test])\n",
    "\n",
    "plt.figure(figsize=(8, 6))\n",
    "plt.contourf(xx, yy, Z, alpha=0.3, cmap=\"coolwarm\") \n",
    "plt.scatter(X_test[:, 0], X_test[:, 1], c=colors, edgecolors=\"k\")\n",
    "plt.xlabel(\"blueGoldDiff\")\n",
    "plt.ylabel(\"blueExperienceDiff\")\n",
    "plt.title(\"Clasificación de Partidas de LoL con Frontera de Decisión de SVM\")\n",
    "plt.show()"
   ]
  },
  {
   "cell_type": "markdown",
   "metadata": {},
   "source": [
    "# Ajustes de Hiperparámetros y Consideraciones Extra\n",
    "\n",
    "Durante la implementación del modelo **SVM desde cero**, realizamos ajustes en algunos hiperparámetros para mejorar el rendimiento del modelo y su capacidad de clasificación.\n",
    "\n",
    "## **Hiperparámetros Ajustados (Tuning)**\n",
    "1. **Tasa de Aprendizaje (`learning_rate`)**  \n",
    "   - Inicialmente usamos `0.01`, pero el modelo no convergía correctamente.  \n",
    "   - Se redujo a `0.001` para obtener una actualización más estable de los pesos.  \n",
    "\n",
    "2. **Número de Iteraciones (`n_iters`)**  \n",
    "   - Se probó con valores entre `500 - 5000`.  \n",
    "   - Con `1000` iteraciones obtuvimos un balance entre velocidad de convergencia y precisión.  \n",
    "\n",
    "3. **Parámetro de Regularización (`lambda_param`)**  \n",
    "   - Se probó con `0.1`, `0.01`, y `0.001`.  \n",
    "   - `lambda_param = 0.01` funcionó mejor para evitar **overfitting** y mejorar la generalización.  \n",
    "\n",
    "## **Otras Consideraciones Extra**\n",
    "1. **Selección de Variables (`blueGoldDiff`, `blueExperienceDiff`)**  \n",
    "   - Se eligieron porque están directamente relacionadas con la ventaja del equipo azul.  \n",
    "   - Otras variables como `blueKills` o `blueTowersDestroyed` podrían mejorar el modelo, pero solo usamos dos para visualizar en 2D.  \n",
    "\n",
    "2. **Balance de Clases**  \n",
    "   - Se verificó que `blueWins` estuviera **balanceado** (casi 50%-50%).  \n",
    "   - Por esta razón, la métrica de **precisión (accuracy)** fue suficiente.  \n",
    "\n"
   ]
  },
  {
   "cell_type": "markdown",
   "metadata": {},
   "source": [
    "## **Entrenar SVM Usando Scikit-Learn**"
   ]
  },
  {
   "cell_type": "code",
   "execution_count": null,
   "metadata": {},
   "outputs": [
    {
     "name": "stdout",
     "output_type": "stream",
     "text": [
      "Precisión del modelo SVM con Scikit-Learn: 0.73\n"
     ]
    }
   ],
   "source": [
    "from sklearn.svm import SVC\n",
    "from sklearn.metrics import accuracy_score\n",
    "\n",
    "svm_sklearn = SVC(kernel=\"linear\", C=1.0) \n",
    "svm_sklearn.fit(X_train, y_train)\n",
    "\n",
    "y_pred_sklearn = svm_sklearn.predict(X_test)\n",
    "accuracy_sklearn = accuracy_score(y_test, y_pred_sklearn)\n",
    "\n",
    "print(f\"Precisión del modelo SVM con Scikit-Learn: {accuracy_sklearn:.2f}\")\n"
   ]
  },
  {
   "cell_type": "markdown",
   "metadata": {},
   "source": [
    "# Análisis de Comparación: SVM Desde Cero vs. Scikit-Learn\n",
    "\n",
    "## **¿Cuál implementación fue mejor?**\n",
    "- **En términos de precisión:** Ambas obtuvieron **73%**, por lo que el modelo manual fue una buena aproximación.\n",
    "- **En términos de eficiencia:** Scikit-Learn es **más rápido y optimizado**, ya que usa algoritmos eficientes en C++ y optimización matemática avanzada.\n",
    "- **En términos de aprendizaje:** Implementar el SVM desde cero nos permitió **entender cómo funciona realmente el algoritmo**.\n",
    "\n",
    "## **¿Por qué ambas tienen la misma precisión?**\n",
    "- El **SVM lineal** es un modelo determinista, lo que significa que para los mismos datos y hiperparámetros, **ambas implementaciones convergen a la misma solución**.\n",
    "- Nuestro **SVM desde cero fue correctamente implementado**, logrando resultados equivalentes a Scikit-Learn.\n"
   ]
  }
 ],
 "metadata": {
  "kernelspec": {
   "display_name": "Python 3",
   "language": "python",
   "name": "python3"
  },
  "language_info": {
   "codemirror_mode": {
    "name": "ipython",
    "version": 3
   },
   "file_extension": ".py",
   "mimetype": "text/x-python",
   "name": "python",
   "nbconvert_exporter": "python",
   "pygments_lexer": "ipython3",
   "version": "3.12.2"
  }
 },
 "nbformat": 4,
 "nbformat_minor": 2
}
